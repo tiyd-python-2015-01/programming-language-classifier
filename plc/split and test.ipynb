{
 "metadata": {
  "name": "",
  "signature": "sha256:d92b8193818cf4fb449ca66b377d7ceb050fe6af17428898526d4210e2ddb23a"
 },
 "nbformat": 3,
 "nbformat_minor": 0,
 "worksheets": [
  {
   "cells": [
    {
     "cell_type": "code",
     "collapsed": false,
     "input": [
      "from data_load import*\n",
      "from features import*\n",
      "from classifier import*\n",
      "from guess_lang import*"
     ],
     "language": "python",
     "metadata": {},
     "outputs": [],
     "prompt_number": 6
    },
    {
     "cell_type": "code",
     "collapsed": false,
     "input": [
      "import os\n",
      "import pandas as pd\n",
      "import re\n",
      "import random"
     ],
     "language": "python",
     "metadata": {},
     "outputs": [],
     "prompt_number": 7
    },
    {
     "cell_type": "code",
     "collapsed": false,
     "input": [
      "word_list = ['let', 'end', 'defn', 'function', 'fun', 'return', 'def', 'return', 'check', 'make', '->', '.format',\n",
      "             'define', '::', 'done', 'type', 'rescue', 'print', 'elif', 'clone', 'display', '$format', 'echo', 'str',\n",
      "             'join', '&&', 'val', 'Nil', 'object', '<-', '--', 'lambda', 'var', '//', 'tmpl', 'public function',\n",
      "             'stdlib', '=>', 'final', 'case', 'impl']\n",
      "symbol_list = ['$', '^', ',', ';', '&', '|', '!', '*', '@', '#']\n",
      "endings = ['end', ')', '}']"
     ],
     "language": "python",
     "metadata": {},
     "outputs": [],
     "prompt_number": 8
    },
    {
     "cell_type": "code",
     "collapsed": false,
     "input": [
      "from sklearn.cross_validation import train_test_split\n",
      "from sklearn import metrics"
     ],
     "language": "python",
     "metadata": {},
     "outputs": [],
     "prompt_number": 9
    },
    {
     "cell_type": "code",
     "collapsed": false,
     "input": [
      "df = data_frame_generator()"
     ],
     "language": "python",
     "metadata": {},
     "outputs": [],
     "prompt_number": 10
    },
    {
     "cell_type": "code",
     "collapsed": false,
     "input": [
      "xdata = df.loc[:, 'let':]\n",
      "ydata = df['Language']"
     ],
     "language": "python",
     "metadata": {},
     "outputs": [],
     "prompt_number": 11
    },
    {
     "cell_type": "code",
     "collapsed": false,
     "input": [
      "x_train, x_test, y_train, y_test = train_test_split(xdata, ydata, test_size=0.3, random_state=0)"
     ],
     "language": "python",
     "metadata": {},
     "outputs": [],
     "prompt_number": 12
    },
    {
     "cell_type": "code",
     "collapsed": false,
     "input": [
      "from sklearn.naive_bayes import GaussianNB\n",
      "from sklearn.tree import DecisionTreeClassifier"
     ],
     "language": "python",
     "metadata": {},
     "outputs": [],
     "prompt_number": 13
    },
    {
     "cell_type": "code",
     "collapsed": false,
     "input": [
      "tree = DecisionTreeClassifier()\n",
      "run_classifier(tree, x_train, x_test, y_train, y_test)"
     ],
     "language": "python",
     "metadata": {},
     "outputs": [
      {
       "output_type": "stream",
       "stream": "stdout",
       "text": [
        "             precision    recall  f1-score   support\n",
        "\n",
        "    clojure       1.00      1.00      1.00        11\n",
        "    haskell       0.80      0.80      0.80        10\n",
        "       java       1.00      0.80      0.89        15\n",
        " javascript       0.70      0.88      0.78         8\n",
        "      ocaml       0.75      1.00      0.86         9\n",
        "       perl       1.00      0.82      0.90        11\n",
        "        php       0.82      1.00      0.90         9\n",
        "     python       0.77      1.00      0.87        10\n",
        "       ruby       1.00      0.83      0.91        12\n",
        "      scala       1.00      0.93      0.96        14\n",
        "     scheme       1.00      0.71      0.83         7\n",
        "\n",
        "avg / total       0.91      0.89      0.89       116\n",
        "\n",
        "[[11  0  0  0  0  0  0  0  0  0  0]\n",
        " [ 0  8  0  0  1  0  0  1  0  0  0]\n",
        " [ 0  0 12  3  0  0  0  0  0  0  0]\n",
        " [ 0  1  0  7  0  0  0  0  0  0  0]\n",
        " [ 0  0  0  0  9  0  0  0  0  0  0]\n",
        " [ 0  0  0  0  0  9  2  0  0  0  0]\n",
        " [ 0  0  0  0  0  0  9  0  0  0  0]\n",
        " [ 0  0  0  0  0  0  0 10  0  0  0]\n",
        " [ 0  0  0  0  0  0  0  2 10  0  0]\n",
        " [ 0  1  0  0  0  0  0  0  0 13  0]\n",
        " [ 0  0  0  0  2  0  0  0  0  0  5]]\n",
        "0.889563785928\n"
       ]
      }
     ],
     "prompt_number": 14
    },
    {
     "cell_type": "code",
     "collapsed": false,
     "input": [
      "gauss = GaussianNB()\n",
      "run_classifier(gauss, x_train, x_test, y_train, y_test)"
     ],
     "language": "python",
     "metadata": {},
     "outputs": [
      {
       "output_type": "stream",
       "stream": "stdout",
       "text": [
        "             precision    recall  f1-score   support\n",
        "\n",
        "    clojure       0.92      1.00      0.96        11\n",
        "    haskell       0.91      1.00      0.95        10\n",
        "       java       1.00      0.87      0.93        15\n",
        " javascript       0.83      0.62      0.71         8\n",
        "      ocaml       1.00      1.00      1.00         9\n",
        "       perl       0.92      1.00      0.96        11\n",
        "        php       0.82      1.00      0.90         9\n",
        "     python       1.00      0.70      0.82        10\n",
        "       ruby       0.77      0.83      0.80        12\n",
        "      scala       0.87      0.93      0.90        14\n",
        "     scheme       1.00      1.00      1.00         7\n",
        "\n",
        "avg / total       0.91      0.91      0.90       116\n",
        "\n",
        "[[11  0  0  0  0  0  0  0  0  0  0]\n",
        " [ 0 10  0  0  0  0  0  0  0  0  0]\n",
        " [ 0  0 13  1  0  0  1  0  0  0  0]\n",
        " [ 0  0  0  5  0  0  1  0  0  2  0]\n",
        " [ 0  0  0  0  9  0  0  0  0  0  0]\n",
        " [ 0  0  0  0  0 11  0  0  0  0  0]\n",
        " [ 0  0  0  0  0  0  9  0  0  0  0]\n",
        " [ 0  0  0  0  0  0  0  7  3  0  0]\n",
        " [ 1  1  0  0  0  0  0  0 10  0  0]\n",
        " [ 0  0  0  0  0  1  0  0  0 13  0]\n",
        " [ 0  0  0  0  0  0  0  0  0  0  7]]\n",
        "0.902561751579\n"
       ]
      }
     ],
     "prompt_number": 15
    }
   ],
   "metadata": {}
  }
 ]
}