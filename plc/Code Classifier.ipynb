{
 "metadata": {
  "name": "",
  "signature": "sha256:38f00d516f6fc9736605d73e40bc267b2e9567b9f50d67a67165e3e7bce12bf8"
 },
 "nbformat": 3,
 "nbformat_minor": 0,
 "worksheets": [
  {
   "cells": [
    {
     "cell_type": "code",
     "collapsed": false,
     "input": [
      "from data_load import*\n",
      "from features import*\n",
      "from classifier import*\n",
      "from random_guesser import*"
     ],
     "language": "python",
     "metadata": {},
     "outputs": [],
     "prompt_number": 203
    },
    {
     "cell_type": "code",
     "collapsed": false,
     "input": [
      "import os\n",
      "import pandas as pd\n",
      "import re\n",
      "import random"
     ],
     "language": "python",
     "metadata": {},
     "outputs": [],
     "prompt_number": 204
    },
    {
     "cell_type": "heading",
     "level": 3,
     "metadata": {},
     "source": [
      "The lists below are the basis for my features.  For the word_list and symbol_list, the program creates a feature based on the number of occurences of the word or symbol divided by the number of characters in the code snippet.  For the endings list, if the code snippet ends with one of those strings, the feature receives a value of 10.  If it doesn't have one of the listed endings, the feature is valued at 0."
     ]
    },
    {
     "cell_type": "code",
     "collapsed": false,
     "input": [
      "word_list = ['let', 'end', 'defn', 'function', 'fun', 'return', 'def', 'return', 'check', 'make', '->', '.format',\n",
      "             'define', '::', 'done', 'type', 'rescue', 'print', 'elif', 'clone', 'display', '$format', 'echo', 'str',\n",
      "             'join', '&&', 'val', 'Nil', 'object', '<-', '--', 'lambda', 'var', '//', 'tmpl', 'public function',\n",
      "             'stdlib', '=>', 'final', 'case', 'impl']\n",
      "symbol_list = ['$', '^', ',', ';', '&', '|', '!', '*', '@', '#', '(', '{', ' ']\n",
      "endings = ['end', ')', '}']"
     ],
     "language": "python",
     "metadata": {},
     "outputs": [],
     "prompt_number": 205
    },
    {
     "cell_type": "heading",
     "level": 3,
     "metadata": {},
     "source": [
      "The following function creates the data frame of features based on the corpus of code snippets pulled from  the Computer Language Benchmarks game."
     ]
    },
    {
     "cell_type": "code",
     "collapsed": false,
     "input": [
      "def data_frame_generator():\n",
      "    codelist = code_sucker()\n",
      "    typelist = type_getter()\n",
      "    df = pd.DataFrame(typelist, index=range(386))\n",
      "    df.columns = [\"Language\"]\n",
      "    df[\"Code\"] = codelist\n",
      "    df['Language'] = df.Language.apply(lambda x:x.lower())\n",
      "    for string in word_list:\n",
      "        def sub_function(code):\n",
      "            x = string_ratio(string, code)\n",
      "            return x\n",
      "        df[string] = df.Code.apply(sub_function)\n",
      "    for char in symbol_list:\n",
      "        def sub_function2(code):\n",
      "            y = character_ratio(code, char)\n",
      "            return y\n",
      "        df[char] = df.Code.apply(sub_function2)\n",
      "    for ending in endings:\n",
      "        def sub_function3(code):\n",
      "            z = string_end(ending, code)\n",
      "            return z\n",
      "        df['_' + ending] = df.Code.apply(sub_function3)\n",
      "    return df"
     ],
     "language": "python",
     "metadata": {},
     "outputs": [],
     "prompt_number": 206
    },
    {
     "cell_type": "code",
     "collapsed": false,
     "input": [
      "df = data_frame_generator()"
     ],
     "language": "python",
     "metadata": {},
     "outputs": [],
     "prompt_number": 207
    },
    {
     "cell_type": "code",
     "collapsed": false,
     "input": [
      "#df.head(2)"
     ],
     "language": "python",
     "metadata": {},
     "outputs": [],
     "prompt_number": 208
    },
    {
     "cell_type": "heading",
     "level": 3,
     "metadata": {},
     "source": [
      "The following function creates the data frame of features based on the code snippets provided for testing the classifier."
     ]
    },
    {
     "cell_type": "code",
     "collapsed": false,
     "input": [
      "def tdata_frame_generator():\n",
      "    test_codelist = tcode_sucker()\n",
      "    df = pd.read_csv(\"test.csv\")\n",
      "    df[\"Code\"] = test_codelist\n",
      "    for string in word_list:\n",
      "        def sub_function(code):\n",
      "            x = string_ratio(string, code)\n",
      "            return x\n",
      "        df[string] = df.Code.apply(sub_function)\n",
      "    for char in symbol_list:\n",
      "        def sub_function2(code):\n",
      "            y = character_ratio(code, char)\n",
      "            return y\n",
      "        df[char] = df.Code.apply(sub_function2)\n",
      "    for ending in endings:\n",
      "        def sub_function3(code):\n",
      "            z = string_end(ending, code)\n",
      "            return z\n",
      "        df['_' + ending] = df.Code.apply(sub_function3)\n",
      "    return df"
     ],
     "language": "python",
     "metadata": {},
     "outputs": [],
     "prompt_number": 209
    },
    {
     "cell_type": "code",
     "collapsed": false,
     "input": [
      "test_df = tdata_frame_generator()"
     ],
     "language": "python",
     "metadata": {},
     "outputs": [],
     "prompt_number": 210
    },
    {
     "cell_type": "code",
     "collapsed": false,
     "input": [
      "x_train, x_test, y_train, y_test = create_xy(df, test_df, word_list[0], 'Language')"
     ],
     "language": "python",
     "metadata": {},
     "outputs": [],
     "prompt_number": 211
    },
    {
     "cell_type": "heading",
     "level": 3,
     "metadata": {},
     "source": [
      "I used a Decision Tree Classifier and a Gaussian Naive Bayes Classifier.  The Gaussian NB classifier scored higher, and thus I used that in my guess_lang.py program to be run from the console.  I also made a random guesser.  This is included as a morale booster for whenever I feel like my classifiers are not sufficiently effective."
     ]
    },
    {
     "cell_type": "code",
     "collapsed": false,
     "input": [
      "from sklearn.naive_bayes import GaussianNB\n",
      "from sklearn.tree import DecisionTreeClassifier"
     ],
     "language": "python",
     "metadata": {},
     "outputs": [],
     "prompt_number": 212
    },
    {
     "cell_type": "code",
     "collapsed": false,
     "input": [
      "tree = DecisionTreeClassifier()\n",
      "run_classifier(tree, x_train, x_test, y_train, y_test)"
     ],
     "language": "python",
     "metadata": {},
     "outputs": [
      {
       "output_type": "stream",
       "stream": "stdout",
       "text": [
        "             precision    recall  f1-score   support\n",
        "\n",
        "    clojure       1.00      0.75      0.86         4\n",
        "    haskell       0.67      0.67      0.67         3\n",
        "       java       0.50      1.00      0.67         2\n",
        " javascript       1.00      0.50      0.67         4\n",
        "      ocaml       1.00      1.00      1.00         2\n",
        "       perl       0.00      0.00      0.00         0\n",
        "        php       1.00      0.33      0.50         3\n",
        "     python       0.40      0.50      0.44         4\n",
        "       ruby       0.50      0.67      0.57         3\n",
        "      scala       0.40      1.00      0.57         2\n",
        "     scheme       0.00      0.00      0.00         3\n",
        "\n",
        "avg / total       0.66      0.60      0.59        30\n",
        "\n",
        "[[3 0 0 0 0 0 0 0 1 0 0]\n",
        " [0 2 0 0 0 0 0 1 0 0 0]\n",
        " [0 0 2 0 0 0 0 0 0 0 0]\n",
        " [0 0 0 2 0 0 0 1 0 1 0]\n",
        " [0 0 0 0 2 0 0 0 0 0 0]\n",
        " [0 0 0 0 0 0 0 0 0 0 0]\n",
        " [0 0 0 0 0 1 1 0 0 1 0]\n",
        " [0 0 1 0 0 0 0 2 1 0 0]\n",
        " [0 0 1 0 0 0 0 0 2 0 0]\n",
        " [0 0 0 0 0 0 0 0 0 2 0]\n",
        " [0 1 0 0 0 0 0 1 0 1 0]]\n",
        "0.58544973545\n"
       ]
      }
     ],
     "prompt_number": 213
    },
    {
     "cell_type": "code",
     "collapsed": false,
     "input": [
      "gauss = GaussianNB()\n",
      "run_classifier(gauss, x_train, x_test, y_train, y_test)"
     ],
     "language": "python",
     "metadata": {},
     "outputs": [
      {
       "output_type": "stream",
       "stream": "stdout",
       "text": [
        "             precision    recall  f1-score   support\n",
        "\n",
        "    clojure       1.00      1.00      1.00         4\n",
        "    haskell       1.00      0.67      0.80         3\n",
        "       java       0.67      1.00      0.80         2\n",
        " javascript       1.00      0.25      0.40         4\n",
        "      ocaml       1.00      1.00      1.00         2\n",
        "       perl       0.00      0.00      0.00         0\n",
        "        php       0.38      1.00      0.55         3\n",
        "     python       1.00      1.00      1.00         4\n",
        "       ruby       1.00      0.33      0.50         3\n",
        "      scala       0.00      0.00      0.00         2\n",
        "     scheme       1.00      1.00      1.00         3\n",
        "\n",
        "avg / total       0.85      0.73      0.72        30\n",
        "\n",
        "[[4 0 0 0 0 0 0 0 0 0 0]\n",
        " [0 2 0 0 0 0 0 0 0 1 0]\n",
        " [0 0 2 0 0 0 0 0 0 0 0]\n",
        " [0 0 0 1 0 0 3 0 0 0 0]\n",
        " [0 0 0 0 2 0 0 0 0 0 0]\n",
        " [0 0 0 0 0 0 0 0 0 0 0]\n",
        " [0 0 0 0 0 0 3 0 0 0 0]\n",
        " [0 0 0 0 0 0 0 4 0 0 0]\n",
        " [0 0 0 0 0 1 1 0 1 0 0]\n",
        " [0 0 1 0 0 0 1 0 0 0 0]\n",
        " [0 0 0 0 0 0 0 0 0 0 3]]\n",
        "0.724545454545\n"
       ]
      }
     ],
     "prompt_number": 214
    },
    {
     "cell_type": "code",
     "collapsed": false,
     "input": [
      "random_guesser(y_test)"
     ],
     "language": "python",
     "metadata": {},
     "outputs": [
      {
       "metadata": {},
       "output_type": "pyout",
       "prompt_number": 215,
       "text": [
        "0.0"
       ]
      }
     ],
     "prompt_number": 215
    },
    {
     "cell_type": "heading",
     "level": 3,
     "metadata": {},
     "source": [
      "Attempting to pickle my classifier"
     ]
    },
    {
     "cell_type": "code",
     "collapsed": false,
     "input": [
      "import pickle"
     ],
     "language": "python",
     "metadata": {},
     "outputs": [],
     "prompt_number": 216
    },
    {
     "cell_type": "code",
     "collapsed": false,
     "input": [
      "pickleclf = GaussianNB()"
     ],
     "language": "python",
     "metadata": {},
     "outputs": [],
     "prompt_number": 217
    },
    {
     "cell_type": "code",
     "collapsed": false,
     "input": [
      "pickleclf.fit(x_train, y_train)"
     ],
     "language": "python",
     "metadata": {},
     "outputs": [
      {
       "metadata": {},
       "output_type": "pyout",
       "prompt_number": 218,
       "text": [
        "GaussianNB()"
       ]
      }
     ],
     "prompt_number": 218
    },
    {
     "cell_type": "code",
     "collapsed": false,
     "input": [
      "file_Name = \"picklefile\"\n",
      "fileObject = open(file_Name,'wb')"
     ],
     "language": "python",
     "metadata": {},
     "outputs": [],
     "prompt_number": 219
    },
    {
     "cell_type": "code",
     "collapsed": false,
     "input": [
      "pickle.dump(pickleclf, fileObject)"
     ],
     "language": "python",
     "metadata": {},
     "outputs": [],
     "prompt_number": 220
    },
    {
     "cell_type": "code",
     "collapsed": false,
     "input": [
      "fileObject.close()"
     ],
     "language": "python",
     "metadata": {},
     "outputs": [],
     "prompt_number": 221
    },
    {
     "cell_type": "code",
     "collapsed": false,
     "input": [
      "fileObject = open('picklefile','r')\n",
      "clf = pickle.load(fileObject)"
     ],
     "language": "python",
     "metadata": {},
     "outputs": [
      {
       "ename": "UnicodeDecodeError",
       "evalue": "'utf-8' codec can't decode byte 0x80 in position 0: invalid start byte",
       "output_type": "pyerr",
       "traceback": [
        "\u001b[0;31m---------------------------------------------------------------------------\u001b[0m\n\u001b[0;31mUnicodeDecodeError\u001b[0m                        Traceback (most recent call last)",
        "\u001b[0;32m<ipython-input-222-f4f3bd8676dc>\u001b[0m in \u001b[0;36m<module>\u001b[0;34m()\u001b[0m\n\u001b[1;32m      1\u001b[0m \u001b[0mfileObject\u001b[0m \u001b[0;34m=\u001b[0m \u001b[0mopen\u001b[0m\u001b[0;34m(\u001b[0m\u001b[0;34m'picklefile'\u001b[0m\u001b[0;34m,\u001b[0m\u001b[0;34m'r'\u001b[0m\u001b[0;34m)\u001b[0m\u001b[0;34m\u001b[0m\u001b[0m\n\u001b[0;32m----> 2\u001b[0;31m \u001b[0mclf\u001b[0m \u001b[0;34m=\u001b[0m \u001b[0mpickle\u001b[0m\u001b[0;34m.\u001b[0m\u001b[0mload\u001b[0m\u001b[0;34m(\u001b[0m\u001b[0mfileObject\u001b[0m\u001b[0;34m)\u001b[0m\u001b[0;34m\u001b[0m\u001b[0m\n\u001b[0m",
        "\u001b[0;32m/Users/bretrunestad/.pyenv/versions/3.4.2/lib/python3.4/codecs.py\u001b[0m in \u001b[0;36mdecode\u001b[0;34m(self, input, final)\u001b[0m\n\u001b[1;32m    311\u001b[0m         \u001b[0;31m# decode input (taking the buffer into account)\u001b[0m\u001b[0;34m\u001b[0m\u001b[0;34m\u001b[0m\u001b[0m\n\u001b[1;32m    312\u001b[0m         \u001b[0mdata\u001b[0m \u001b[0;34m=\u001b[0m \u001b[0mself\u001b[0m\u001b[0;34m.\u001b[0m\u001b[0mbuffer\u001b[0m \u001b[0;34m+\u001b[0m \u001b[0minput\u001b[0m\u001b[0;34m\u001b[0m\u001b[0m\n\u001b[0;32m--> 313\u001b[0;31m         \u001b[0;34m(\u001b[0m\u001b[0mresult\u001b[0m\u001b[0;34m,\u001b[0m \u001b[0mconsumed\u001b[0m\u001b[0;34m)\u001b[0m \u001b[0;34m=\u001b[0m \u001b[0mself\u001b[0m\u001b[0;34m.\u001b[0m\u001b[0m_buffer_decode\u001b[0m\u001b[0;34m(\u001b[0m\u001b[0mdata\u001b[0m\u001b[0;34m,\u001b[0m \u001b[0mself\u001b[0m\u001b[0;34m.\u001b[0m\u001b[0merrors\u001b[0m\u001b[0;34m,\u001b[0m \u001b[0mfinal\u001b[0m\u001b[0;34m)\u001b[0m\u001b[0;34m\u001b[0m\u001b[0m\n\u001b[0m\u001b[1;32m    314\u001b[0m         \u001b[0;31m# keep undecoded input until the next call\u001b[0m\u001b[0;34m\u001b[0m\u001b[0;34m\u001b[0m\u001b[0m\n\u001b[1;32m    315\u001b[0m         \u001b[0mself\u001b[0m\u001b[0;34m.\u001b[0m\u001b[0mbuffer\u001b[0m \u001b[0;34m=\u001b[0m \u001b[0mdata\u001b[0m\u001b[0;34m[\u001b[0m\u001b[0mconsumed\u001b[0m\u001b[0;34m:\u001b[0m\u001b[0;34m]\u001b[0m\u001b[0;34m\u001b[0m\u001b[0m\n",
        "\u001b[0;31mUnicodeDecodeError\u001b[0m: 'utf-8' codec can't decode byte 0x80 in position 0: invalid start byte"
       ]
      }
     ],
     "prompt_number": 222
    }
   ],
   "metadata": {}
  }
 ]
}