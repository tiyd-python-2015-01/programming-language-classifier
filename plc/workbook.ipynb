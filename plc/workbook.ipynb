{
 "metadata": {
  "name": "",
  "signature": "sha256:95e12a41859fa3e312230e9c8cd06933a5646f54cec92e1fc473f5eecb3bbc3e"
 },
 "nbformat": 3,
 "nbformat_minor": 0,
 "worksheets": [
  {
   "cells": [
    {
     "cell_type": "code",
     "collapsed": false,
     "input": [
      "import os\n",
      "import pandas as pd\n",
      "import re"
     ],
     "language": "python",
     "metadata": {},
     "outputs": [],
     "prompt_number": 290
    },
    {
     "cell_type": "code",
     "collapsed": false,
     "input": [
      "filename_dict = {\".clj\":\"Clojure\",\n",
      "                 \".cljs\": \"Clojure\",\n",
      "                 \".edn\": \"Clojure\",\n",
      "                 \".clojure\": \"Clojure\",\n",
      "                 \".hs\": \"Haskell\",\n",
      "                 \".lhs\": \"Haskell\",\n",
      "                 \".java\": \"Java\",\n",
      "                 \".class\": \"Java\",\n",
      "                 \".jar\": \"Java\",\n",
      "                 \".js\": \"Javascript\",\n",
      "                 \".javascript\": \"Javascript\",\n",
      "                 \".ocaml\": \"OCaml\",\n",
      "                 \".ml\": \"OCaml\",\n",
      "                 \".pl\": \"Perl\",\n",
      "                 \".pm\": \"Perl\",\n",
      "                 \".t\": \"Perl\",\n",
      "                 \".pod\": \"Perl\",\n",
      "                 \".php\": \"PHP\",\n",
      "                 \".perl\": \"Perl\",\n",
      "                 \".phtml\": \"PHP\",\n",
      "                 \".php4\": \"PHP\",\n",
      "                 \".php3\": \"PHP\",\n",
      "                 \".php5\": \"PHP\",\n",
      "                 \".phps\": \"PHP\",\n",
      "                 \".py\": \"Python\",\n",
      "                 \".pyw\": \"Python\",\n",
      "                 \".pyc\": \"Python\",\n",
      "                 \".pyo\": \"Python\",\n",
      "                 \".pyd\": \"Python\",\n",
      "                 \".python3\": \"Python\",\n",
      "                 \".Python2\": \"Python\",\n",
      "                 \".rb\": \"Ruby\",\n",
      "                 \".rbw\": \"Ruby\",\n",
      "                 \".jruby\": \"Ruby\",\n",
      "                 \".scala\": \"Scala\",\n",
      "                 \".scm\": \"Scheme\",\n",
      "                 \".ss\": \"Scheme\",\n",
      "                 \".tcl\": \"Tcl\",\n",
      "                 \".racket\": \"Scheme\",\n",
      "                 \".ghc\": \"Haskell\"}"
     ],
     "language": "python",
     "metadata": {},
     "outputs": [],
     "prompt_number": 291
    },
    {
     "cell_type": "code",
     "collapsed": false,
     "input": [
      "def tuple_maker(adict):\n",
      "    lista = []\n",
      "    for key in adict:\n",
      "        lista.append(key)\n",
      "    tup = tuple(lista)\n",
      "    return tup"
     ],
     "language": "python",
     "metadata": {},
     "outputs": [],
     "prompt_number": 292
    },
    {
     "cell_type": "code",
     "collapsed": false,
     "input": [
      "def code_sucker():\n",
      "    codelist = []\n",
      "    for subdir, dirs, files in os.walk(\"bench/\"):\n",
      "        for fname in files:\n",
      "            if fname.endswith(tuple_maker(filename_dict)):\n",
      "                #print(fname)\n",
      "                with open(os.path.join(subdir, fname)) as current_file:\n",
      "                    codelist.append(current_file.read()) \n",
      "    return codelist"
     ],
     "language": "python",
     "metadata": {},
     "outputs": [],
     "prompt_number": 293
    },
    {
     "cell_type": "code",
     "collapsed": false,
     "input": [
      "codelist = code_sucker()"
     ],
     "language": "python",
     "metadata": {},
     "outputs": [],
     "prompt_number": 294
    },
    {
     "cell_type": "code",
     "collapsed": false,
     "input": [
      "len(codelist)"
     ],
     "language": "python",
     "metadata": {},
     "outputs": [
      {
       "metadata": {},
       "output_type": "pyout",
       "prompt_number": 295,
       "text": [
        "386"
       ]
      }
     ],
     "prompt_number": 295
    },
    {
     "cell_type": "code",
     "collapsed": false,
     "input": [
      "def type_getter():\n",
      "    rootDir = 'bench'\n",
      "    typelist = []\n",
      "    for subdir, dirs, files in os.walk(rootDir):\n",
      "        for fname in files:\n",
      "            #print('\\t%s' % fname)\n",
      "            name, extension = os.path.splitext(fname)\n",
      "            if extension in filename_dict:\n",
      "                #print(filename_dict[extension])\n",
      "                typelist.append(filename_dict[extension])\n",
      "    return typelist"
     ],
     "language": "python",
     "metadata": {},
     "outputs": [],
     "prompt_number": 296
    },
    {
     "cell_type": "code",
     "collapsed": false,
     "input": [
      "typelist = type_getter()"
     ],
     "language": "python",
     "metadata": {},
     "outputs": [],
     "prompt_number": 297
    },
    {
     "cell_type": "code",
     "collapsed": false,
     "input": [
      "len(typelist)"
     ],
     "language": "python",
     "metadata": {},
     "outputs": [
      {
       "metadata": {},
       "output_type": "pyout",
       "prompt_number": 298,
       "text": [
        "386"
       ]
      }
     ],
     "prompt_number": 298
    },
    {
     "cell_type": "code",
     "collapsed": false,
     "input": [
      "df = pd.DataFrame(typelist, index=range(386))"
     ],
     "language": "python",
     "metadata": {},
     "outputs": [],
     "prompt_number": 299
    },
    {
     "cell_type": "code",
     "collapsed": false,
     "input": [
      "df.columns = [\"Language\"]\n",
      "df[\"Code\"] = codelist"
     ],
     "language": "python",
     "metadata": {},
     "outputs": [],
     "prompt_number": 300
    },
    {
     "cell_type": "code",
     "collapsed": false,
     "input": [
      "df['Language'] = df.Language.apply(lambda x:x.lower())"
     ],
     "language": "python",
     "metadata": {},
     "outputs": [],
     "prompt_number": 301
    },
    {
     "cell_type": "code",
     "collapsed": false,
     "input": [
      "df"
     ],
     "language": "python",
     "metadata": {},
     "outputs": [
      {
       "html": [
        "<div style=\"max-height:1000px;max-width:1500px;overflow:auto;\">\n",
        "<table border=\"1\" class=\"dataframe\">\n",
        "  <thead>\n",
        "    <tr style=\"text-align: right;\">\n",
        "      <th></th>\n",
        "      <th>Language</th>\n",
        "      <th>Code</th>\n",
        "    </tr>\n",
        "  </thead>\n",
        "  <tbody>\n",
        "    <tr>\n",
        "      <th>0  </th>\n",
        "      <td>    clojure</td>\n",
        "      <td> ;; The Computer Language Benchmarks Game\\n;; h...</td>\n",
        "    </tr>\n",
        "    <tr>\n",
        "      <th>1  </th>\n",
        "      <td>    clojure</td>\n",
        "      <td> ;; The Computer Language Benchmarks Game\\n;; h...</td>\n",
        "    </tr>\n",
        "    <tr>\n",
        "      <th>2  </th>\n",
        "      <td>    clojure</td>\n",
        "      <td> ;; The Computer Language Benchmarks Game\\n;; h...</td>\n",
        "    </tr>\n",
        "    <tr>\n",
        "      <th>3  </th>\n",
        "      <td>    haskell</td>\n",
        "      <td> --\\n-- The Computer Language Benchmarks Game\\n...</td>\n",
        "    </tr>\n",
        "    <tr>\n",
        "      <th>4  </th>\n",
        "      <td>    haskell</td>\n",
        "      <td> --\\n-- The Computer Language Benchmarks Game\\n...</td>\n",
        "    </tr>\n",
        "    <tr>\n",
        "      <th>5  </th>\n",
        "      <td>    haskell</td>\n",
        "      <td> --\\n-- The Computer Language Benchmarks Game\\n...</td>\n",
        "    </tr>\n",
        "    <tr>\n",
        "      <th>6  </th>\n",
        "      <td>       java</td>\n",
        "      <td> /* The Computer Language Benchmarks Game\\n   h...</td>\n",
        "    </tr>\n",
        "    <tr>\n",
        "      <th>7  </th>\n",
        "      <td>       java</td>\n",
        "      <td> /* The Computer Language Benchmarks Game\\n   h...</td>\n",
        "    </tr>\n",
        "    <tr>\n",
        "      <th>8  </th>\n",
        "      <td>       java</td>\n",
        "      <td> /* The Computer Language Benchmarks Game\\n * h...</td>\n",
        "    </tr>\n",
        "    <tr>\n",
        "      <th>9  </th>\n",
        "      <td> javascript</td>\n",
        "      <td> /* The Computer Language Benchmarks Game\\n   h...</td>\n",
        "    </tr>\n",
        "    <tr>\n",
        "      <th>10 </th>\n",
        "      <td>       ruby</td>\n",
        "      <td> # The Computer Language Shootout Benchmarks\\n#...</td>\n",
        "    </tr>\n",
        "    <tr>\n",
        "      <th>11 </th>\n",
        "      <td>       ruby</td>\n",
        "      <td> # The Computer Language Benchmarks Game\\n# htt...</td>\n",
        "    </tr>\n",
        "    <tr>\n",
        "      <th>12 </th>\n",
        "      <td>       ruby</td>\n",
        "      <td> # The Computer Language Benchmarks Game\\n# htt...</td>\n",
        "    </tr>\n",
        "    <tr>\n",
        "      <th>13 </th>\n",
        "      <td>       ruby</td>\n",
        "      <td> # The Computer Language Benchmarks Game\\n# htt...</td>\n",
        "    </tr>\n",
        "    <tr>\n",
        "      <th>14 </th>\n",
        "      <td>      ocaml</td>\n",
        "      <td> (* The Computer Language Benchmarks Game\\n * h...</td>\n",
        "    </tr>\n",
        "    <tr>\n",
        "      <th>15 </th>\n",
        "      <td>      ocaml</td>\n",
        "      <td> (* The Computer Language Benchmarks Game\\n * h...</td>\n",
        "    </tr>\n",
        "    <tr>\n",
        "      <th>16 </th>\n",
        "      <td>      ocaml</td>\n",
        "      <td> (* The Computer Language Benchmarks Game\\n * h...</td>\n",
        "    </tr>\n",
        "    <tr>\n",
        "      <th>17 </th>\n",
        "      <td>       perl</td>\n",
        "      <td> # The Computer Language Benchmarks Game\\n# htt...</td>\n",
        "    </tr>\n",
        "    <tr>\n",
        "      <th>18 </th>\n",
        "      <td>       perl</td>\n",
        "      <td> # The Computer Language Benchmarks Game\\n# htt...</td>\n",
        "    </tr>\n",
        "    <tr>\n",
        "      <th>19 </th>\n",
        "      <td>        php</td>\n",
        "      <td> &lt;?php \\n/* The Computer Language Benchmarks Ga...</td>\n",
        "    </tr>\n",
        "    <tr>\n",
        "      <th>20 </th>\n",
        "      <td>        php</td>\n",
        "      <td> &lt;?php \\n/* The Computer Language Benchmarks Ga...</td>\n",
        "    </tr>\n",
        "    <tr>\n",
        "      <th>21 </th>\n",
        "      <td>        php</td>\n",
        "      <td> &lt;?php \\n/* The Computer Language Benchmarks Ga...</td>\n",
        "    </tr>\n",
        "    <tr>\n",
        "      <th>22 </th>\n",
        "      <td>        php</td>\n",
        "      <td> &lt;?php \\n/* The Computer Language Benchmarks Ga...</td>\n",
        "    </tr>\n",
        "    <tr>\n",
        "      <th>23 </th>\n",
        "      <td>     python</td>\n",
        "      <td> # The Computer Language Benchmarks Game\\n# htt...</td>\n",
        "    </tr>\n",
        "    <tr>\n",
        "      <th>24 </th>\n",
        "      <td>     scheme</td>\n",
        "      <td> #lang racket/base\\n\\n;;; The Computer Language...</td>\n",
        "    </tr>\n",
        "    <tr>\n",
        "      <th>25 </th>\n",
        "      <td>     scheme</td>\n",
        "      <td> #lang racket/base\\n\\n;;; The Computer Language...</td>\n",
        "    </tr>\n",
        "    <tr>\n",
        "      <th>26 </th>\n",
        "      <td>     scheme</td>\n",
        "      <td> #lang racket/base\\n\\n;;; The Computer Language...</td>\n",
        "    </tr>\n",
        "    <tr>\n",
        "      <th>27 </th>\n",
        "      <td>      scala</td>\n",
        "      <td> /* The Computer Language Benchmarks Game\\n   h...</td>\n",
        "    </tr>\n",
        "    <tr>\n",
        "      <th>28 </th>\n",
        "      <td>      scala</td>\n",
        "      <td> /* The Computer Language Benchmarks Game\\n   h...</td>\n",
        "    </tr>\n",
        "    <tr>\n",
        "      <th>29 </th>\n",
        "      <td>      scala</td>\n",
        "      <td> /* The Computer Language Benchmarks Game\\n   h...</td>\n",
        "    </tr>\n",
        "    <tr>\n",
        "      <th>...</th>\n",
        "      <td>...</td>\n",
        "      <td>...</td>\n",
        "    </tr>\n",
        "    <tr>\n",
        "      <th>356</th>\n",
        "      <td>     python</td>\n",
        "      <td> # The Computer Language Benchmarks Game\\n# htt...</td>\n",
        "    </tr>\n",
        "    <tr>\n",
        "      <th>357</th>\n",
        "      <td>     python</td>\n",
        "      <td> # The Computer Language Benchmarks Game\\n# htt...</td>\n",
        "    </tr>\n",
        "    <tr>\n",
        "      <th>358</th>\n",
        "      <td>     python</td>\n",
        "      <td> # The Computer Language Benchmarks Game\\n# htt...</td>\n",
        "    </tr>\n",
        "    <tr>\n",
        "      <th>359</th>\n",
        "      <td>     scheme</td>\n",
        "      <td> #lang racket/base\\n\\n;;; The Computer Language...</td>\n",
        "    </tr>\n",
        "    <tr>\n",
        "      <th>360</th>\n",
        "      <td>     scheme</td>\n",
        "      <td> #lang racket/base\\n\\n;;; The Computer Language...</td>\n",
        "    </tr>\n",
        "    <tr>\n",
        "      <th>361</th>\n",
        "      <td>     scheme</td>\n",
        "      <td> #lang racket/base\\n;; The Computer Language Be...</td>\n",
        "    </tr>\n",
        "    <tr>\n",
        "      <th>362</th>\n",
        "      <td>      scala</td>\n",
        "      <td> /* The Computer Language Benchmarks Game\\n   h...</td>\n",
        "    </tr>\n",
        "    <tr>\n",
        "      <th>363</th>\n",
        "      <td>      scala</td>\n",
        "      <td> /* The Computer Language Benchmarks Game\\n   h...</td>\n",
        "    </tr>\n",
        "    <tr>\n",
        "      <th>364</th>\n",
        "      <td>      scala</td>\n",
        "      <td> /* The Computer Language Benchmarks Game\\n   h...</td>\n",
        "    </tr>\n",
        "    <tr>\n",
        "      <th>365</th>\n",
        "      <td>      scala</td>\n",
        "      <td> /* The Computer Language Benchmarks Game\\n   h...</td>\n",
        "    </tr>\n",
        "    <tr>\n",
        "      <th>366</th>\n",
        "      <td>    clojure</td>\n",
        "      <td> ;; The Computer Language Benchmarks Game\\n;; h...</td>\n",
        "    </tr>\n",
        "    <tr>\n",
        "      <th>367</th>\n",
        "      <td>    clojure</td>\n",
        "      <td> ;; The Computer Language Benchmarks Game\\n;; h...</td>\n",
        "    </tr>\n",
        "    <tr>\n",
        "      <th>368</th>\n",
        "      <td>    haskell</td>\n",
        "      <td> -- The Computer Language Benchmarks Game\\n-- h...</td>\n",
        "    </tr>\n",
        "    <tr>\n",
        "      <th>369</th>\n",
        "      <td>       java</td>\n",
        "      <td> /**\\n * The Computer Language Benchmarks Game\\...</td>\n",
        "    </tr>\n",
        "    <tr>\n",
        "      <th>370</th>\n",
        "      <td>       java</td>\n",
        "      <td> /**\\n * The Computer Language Benchmarks Game\\...</td>\n",
        "    </tr>\n",
        "    <tr>\n",
        "      <th>371</th>\n",
        "      <td>       java</td>\n",
        "      <td> /**\\n * The Computer Language Benchmarks Game\\...</td>\n",
        "    </tr>\n",
        "    <tr>\n",
        "      <th>372</th>\n",
        "      <td>       java</td>\n",
        "      <td> /**\\n * The Computer Language Benchmarks Game\\...</td>\n",
        "    </tr>\n",
        "    <tr>\n",
        "      <th>373</th>\n",
        "      <td>       java</td>\n",
        "      <td> /**\\n * The Computer Language Benchmarks Game\\...</td>\n",
        "    </tr>\n",
        "    <tr>\n",
        "      <th>374</th>\n",
        "      <td>       java</td>\n",
        "      <td> /**\\n * The Computer Language Benchmarks Game\\...</td>\n",
        "    </tr>\n",
        "    <tr>\n",
        "      <th>375</th>\n",
        "      <td>       ruby</td>\n",
        "      <td> # The Computer Language Benchmarks Game\\n# htt...</td>\n",
        "    </tr>\n",
        "    <tr>\n",
        "      <th>376</th>\n",
        "      <td>       ruby</td>\n",
        "      <td> # The Computer Language Benchmarks Game\\n# htt...</td>\n",
        "    </tr>\n",
        "    <tr>\n",
        "      <th>377</th>\n",
        "      <td>      ocaml</td>\n",
        "      <td> (* The Computer Language Benchmarks Game\\n * h...</td>\n",
        "    </tr>\n",
        "    <tr>\n",
        "      <th>378</th>\n",
        "      <td>      ocaml</td>\n",
        "      <td> (* The Computer Language Benchmarks Game\\n * h...</td>\n",
        "    </tr>\n",
        "    <tr>\n",
        "      <th>379</th>\n",
        "      <td>      ocaml</td>\n",
        "      <td> (* The Computer Language Benchmarks Game\\n * h...</td>\n",
        "    </tr>\n",
        "    <tr>\n",
        "      <th>380</th>\n",
        "      <td>       perl</td>\n",
        "      <td> # The Computer Language Benchmarks Game\\n# htt...</td>\n",
        "    </tr>\n",
        "    <tr>\n",
        "      <th>381</th>\n",
        "      <td>       perl</td>\n",
        "      <td> # The Computer Language Benchmarks Game\\n# htt...</td>\n",
        "    </tr>\n",
        "    <tr>\n",
        "      <th>382</th>\n",
        "      <td>     python</td>\n",
        "      <td> # The Computer Language Benchmarks Game\\n# htt...</td>\n",
        "    </tr>\n",
        "    <tr>\n",
        "      <th>383</th>\n",
        "      <td>     python</td>\n",
        "      <td> # The Computer Language Benchmarks Game\\n# htt...</td>\n",
        "    </tr>\n",
        "    <tr>\n",
        "      <th>384</th>\n",
        "      <td>     scheme</td>\n",
        "      <td> #lang racket/base\\n\\n;;; The Computer Language...</td>\n",
        "    </tr>\n",
        "    <tr>\n",
        "      <th>385</th>\n",
        "      <td>      scala</td>\n",
        "      <td> /* The Computer Language Benchmarks Game\\n   h...</td>\n",
        "    </tr>\n",
        "  </tbody>\n",
        "</table>\n",
        "<p>386 rows \u00d7 2 columns</p>\n",
        "</div>"
       ],
       "metadata": {},
       "output_type": "pyout",
       "prompt_number": 302,
       "text": [
        "       Language                                               Code\n",
        "0       clojure  ;; The Computer Language Benchmarks Game\\n;; h...\n",
        "1       clojure  ;; The Computer Language Benchmarks Game\\n;; h...\n",
        "2       clojure  ;; The Computer Language Benchmarks Game\\n;; h...\n",
        "3       haskell  --\\n-- The Computer Language Benchmarks Game\\n...\n",
        "4       haskell  --\\n-- The Computer Language Benchmarks Game\\n...\n",
        "5       haskell  --\\n-- The Computer Language Benchmarks Game\\n...\n",
        "6          java  /* The Computer Language Benchmarks Game\\n   h...\n",
        "7          java  /* The Computer Language Benchmarks Game\\n   h...\n",
        "8          java  /* The Computer Language Benchmarks Game\\n * h...\n",
        "9    javascript  /* The Computer Language Benchmarks Game\\n   h...\n",
        "10         ruby  # The Computer Language Shootout Benchmarks\\n#...\n",
        "11         ruby  # The Computer Language Benchmarks Game\\n# htt...\n",
        "12         ruby  # The Computer Language Benchmarks Game\\n# htt...\n",
        "13         ruby  # The Computer Language Benchmarks Game\\n# htt...\n",
        "14        ocaml  (* The Computer Language Benchmarks Game\\n * h...\n",
        "15        ocaml  (* The Computer Language Benchmarks Game\\n * h...\n",
        "16        ocaml  (* The Computer Language Benchmarks Game\\n * h...\n",
        "17         perl  # The Computer Language Benchmarks Game\\n# htt...\n",
        "18         perl  # The Computer Language Benchmarks Game\\n# htt...\n",
        "19          php  <?php \\n/* The Computer Language Benchmarks Ga...\n",
        "20          php  <?php \\n/* The Computer Language Benchmarks Ga...\n",
        "21          php  <?php \\n/* The Computer Language Benchmarks Ga...\n",
        "22          php  <?php \\n/* The Computer Language Benchmarks Ga...\n",
        "23       python  # The Computer Language Benchmarks Game\\n# htt...\n",
        "24       scheme  #lang racket/base\\n\\n;;; The Computer Language...\n",
        "25       scheme  #lang racket/base\\n\\n;;; The Computer Language...\n",
        "26       scheme  #lang racket/base\\n\\n;;; The Computer Language...\n",
        "27        scala  /* The Computer Language Benchmarks Game\\n   h...\n",
        "28        scala  /* The Computer Language Benchmarks Game\\n   h...\n",
        "29        scala  /* The Computer Language Benchmarks Game\\n   h...\n",
        "..          ...                                                ...\n",
        "356      python  # The Computer Language Benchmarks Game\\n# htt...\n",
        "357      python  # The Computer Language Benchmarks Game\\n# htt...\n",
        "358      python  # The Computer Language Benchmarks Game\\n# htt...\n",
        "359      scheme  #lang racket/base\\n\\n;;; The Computer Language...\n",
        "360      scheme  #lang racket/base\\n\\n;;; The Computer Language...\n",
        "361      scheme  #lang racket/base\\n;; The Computer Language Be...\n",
        "362       scala  /* The Computer Language Benchmarks Game\\n   h...\n",
        "363       scala  /* The Computer Language Benchmarks Game\\n   h...\n",
        "364       scala  /* The Computer Language Benchmarks Game\\n   h...\n",
        "365       scala  /* The Computer Language Benchmarks Game\\n   h...\n",
        "366     clojure  ;; The Computer Language Benchmarks Game\\n;; h...\n",
        "367     clojure  ;; The Computer Language Benchmarks Game\\n;; h...\n",
        "368     haskell  -- The Computer Language Benchmarks Game\\n-- h...\n",
        "369        java  /**\\n * The Computer Language Benchmarks Game\\...\n",
        "370        java  /**\\n * The Computer Language Benchmarks Game\\...\n",
        "371        java  /**\\n * The Computer Language Benchmarks Game\\...\n",
        "372        java  /**\\n * The Computer Language Benchmarks Game\\...\n",
        "373        java  /**\\n * The Computer Language Benchmarks Game\\...\n",
        "374        java  /**\\n * The Computer Language Benchmarks Game\\...\n",
        "375        ruby  # The Computer Language Benchmarks Game\\n# htt...\n",
        "376        ruby  # The Computer Language Benchmarks Game\\n# htt...\n",
        "377       ocaml  (* The Computer Language Benchmarks Game\\n * h...\n",
        "378       ocaml  (* The Computer Language Benchmarks Game\\n * h...\n",
        "379       ocaml  (* The Computer Language Benchmarks Game\\n * h...\n",
        "380        perl  # The Computer Language Benchmarks Game\\n# htt...\n",
        "381        perl  # The Computer Language Benchmarks Game\\n# htt...\n",
        "382      python  # The Computer Language Benchmarks Game\\n# htt...\n",
        "383      python  # The Computer Language Benchmarks Game\\n# htt...\n",
        "384      scheme  #lang racket/base\\n\\n;;; The Computer Language...\n",
        "385       scala  /* The Computer Language Benchmarks Game\\n   h...\n",
        "\n",
        "[386 rows x 2 columns]"
       ]
      }
     ],
     "prompt_number": 302
    },
    {
     "cell_type": "code",
     "collapsed": false,
     "input": [
      "df.iloc[3]['Code']"
     ],
     "language": "python",
     "metadata": {},
     "outputs": [
      {
       "metadata": {},
       "output_type": "pyout",
       "prompt_number": 303,
       "text": [
        "'--\\n-- The Computer Language Benchmarks Game\\n-- http://benchmarksgame.alioth.debian.org/\\n--\\n-- Contributed by Don Stewart\\n--\\n\\nimport System.Environment\\nimport Data.Bits\\nimport Text.Printf\\n\\n--\\n-- an artificially strict tree. \\n--\\n-- normally you would ensure the branches are lazy, but this benchmark\\n-- requires strict allocation.\\n--\\ndata Tree = Nil | Node !Int !Tree !Tree\\n\\nminN = 4\\n\\nio s n t = printf \"%s of depth %d\\\\t check: %d\\\\n\" s n t\\n\\nmain = do\\n    n <- getArgs >>= readIO . head\\n    let maxN     = max (minN + 2) n\\n        stretchN = maxN + 1\\n\\n    -- stretch memory tree\\n    let c = check (make 0 stretchN)\\n    io \"stretch tree\" stretchN c\\n\\n    -- allocate a long lived tree\\n    let !long    = make 0 maxN\\n\\n    -- allocate, walk, and deallocate many bottom-up binary trees\\n    let vs = depth minN maxN\\n    mapM_ (\\\\((m,d,i)) -> io (show m ++ \"\\\\t trees\") d i) vs\\n\\n    -- confirm the the long-lived binary tree still exists\\n    io \"long lived tree\" maxN (check long)\\n\\n-- generate many trees\\ndepth :: Int -> Int -> [(Int,Int,Int)]\\ndepth d m\\n    | d <= m    = (2*n,d,sumT d n 0) : depth (d+2) m\\n    | otherwise = []\\n  where n = 1 `shiftL` (m - d + minN)\\n\\n-- allocate and check lots of trees\\nsumT :: Int -> Int -> Int -> Int\\nsumT d 0 t = t\\nsumT  d i t = sumT d (i-1) (t + a + b)\\n  where a = check (make i    d)\\n        b = check (make (-i) d)\\n\\n-- traverse the tree, counting up the nodes\\ncheck :: Tree -> Int\\ncheck Nil          = 0\\ncheck (Node i l r) = i + check l - check r\\n\\n-- build a tree\\nmake :: Int -> Int -> Tree\\nmake i 0 = Node i Nil Nil\\nmake i d = Node i (make (i2-1) d2) (make i2 d2)\\n  where i2 = 2*i; d2 = d-1\\n'"
       ]
      }
     ],
     "prompt_number": 303
    },
    {
     "cell_type": "code",
     "collapsed": false,
     "input": [
      "def length_getter(code):\n",
      "    return len(code)"
     ],
     "language": "python",
     "metadata": {},
     "outputs": [],
     "prompt_number": 304
    },
    {
     "cell_type": "code",
     "collapsed": false,
     "input": [
      "def character_counter(code, char):\n",
      "    counter = 0\n",
      "    for _ in code:\n",
      "        if _ == char:\n",
      "            counter+=1\n",
      "    return counter\n",
      "\n",
      "def character_ratio(code, char):\n",
      "    value = character_counter(code, char)/len(code)\n",
      "    return value\n",
      "    "
     ],
     "language": "python",
     "metadata": {},
     "outputs": [],
     "prompt_number": 305
    },
    {
     "cell_type": "code",
     "collapsed": false,
     "input": [
      "def comma_counter(code):\n",
      "    counter = 0\n",
      "    for _ in code:\n",
      "        if _ == ',':\n",
      "            counter+=1\n",
      "    return counter\n",
      "\n",
      "def semicolon_counter(code):\n",
      "    counter = 0\n",
      "    for _ in code:\n",
      "        if _ == ';':\n",
      "            counter+=1\n",
      "    return counter"
     ],
     "language": "python",
     "metadata": {},
     "outputs": [],
     "prompt_number": 306
    },
    {
     "cell_type": "code",
     "collapsed": false,
     "input": [
      "def string_finder(string, code):\n",
      "    value = len(re.findall(string, code))\n",
      "    return value\n",
      "\n",
      "def string_ratio(string, code):\n",
      "    value = string_finder(string, code)/len(code)\n",
      "    return value"
     ],
     "language": "python",
     "metadata": {},
     "outputs": [],
     "prompt_number": 307
    },
    {
     "cell_type": "code",
     "collapsed": false,
     "input": [
      "df['code length'] = df.Code.apply(length_getter)"
     ],
     "language": "python",
     "metadata": {},
     "outputs": [],
     "prompt_number": 308
    },
    {
     "cell_type": "code",
     "collapsed": false,
     "input": [
      "word_list = ['let', 'end', 'defn', 'function', 'fun', 'return', 'def', 'return', 'check', 'make', '->', '.format',\n",
      "             'define', '::', '$', '^', ',', ';', '&', '|', '!']"
     ],
     "language": "python",
     "metadata": {},
     "outputs": [],
     "prompt_number": 309
    },
    {
     "cell_type": "code",
     "collapsed": false,
     "input": [
      "def data_frame_generator():\n",
      "    codelist = code_sucker()\n",
      "    typelist = type_getter()\n",
      "    df = pd.DataFrame(typelist, index=range(386))\n",
      "    df.columns = [\"Language\"]\n",
      "    df[\"Code\"] = codelist\n",
      "    df['Language'] = df.Language.apply(lambda x:x.lower())\n",
      "    for string in word_list:\n",
      "        def sub_function(code):\n",
      "            x = string_ratio(string, code)\n",
      "            return x\n",
      "        df[string] = df.Code.apply(sub_function)\n",
      "    return df"
     ],
     "language": "python",
     "metadata": {},
     "outputs": [],
     "prompt_number": 310
    },
    {
     "cell_type": "code",
     "collapsed": false,
     "input": [
      "df = data_frame_generator()"
     ],
     "language": "python",
     "metadata": {},
     "outputs": [],
     "prompt_number": 311
    },
    {
     "cell_type": "code",
     "collapsed": false,
     "input": [
      "#df"
     ],
     "language": "python",
     "metadata": {},
     "outputs": [],
     "prompt_number": 312
    },
    {
     "cell_type": "code",
     "collapsed": false,
     "input": [],
     "language": "python",
     "metadata": {},
     "outputs": [],
     "prompt_number": 312
    },
    {
     "cell_type": "code",
     "collapsed": false,
     "input": [
      "from textblob import TextBlob"
     ],
     "language": "python",
     "metadata": {},
     "outputs": [],
     "prompt_number": 313
    },
    {
     "cell_type": "code",
     "collapsed": false,
     "input": [
      "def code_lookup(df, num):\n",
      "    codeblob = TextBlob(df.iloc[num-1]['Code'])\n",
      "    print(df.iloc[num-1]['Language'])\n",
      "    print(\"\")\n",
      "    print(codeblob)\n",
      "    "
     ],
     "language": "python",
     "metadata": {},
     "outputs": [],
     "prompt_number": 314
    },
    {
     "cell_type": "code",
     "collapsed": false,
     "input": [
      "code_lookup(test_df, 13)"
     ],
     "language": "python",
     "metadata": {},
     "outputs": [
      {
       "ename": "KeyError",
       "evalue": "'Code'",
       "output_type": "pyerr",
       "traceback": [
        "\u001b[0;31m---------------------------------------------------------------------------\u001b[0m\n\u001b[0;31mKeyError\u001b[0m                                  Traceback (most recent call last)",
        "\u001b[0;32m<ipython-input-315-4a7b44b06ab6>\u001b[0m in \u001b[0;36m<module>\u001b[0;34m()\u001b[0m\n\u001b[0;32m----> 1\u001b[0;31m \u001b[0mcode_lookup\u001b[0m\u001b[0;34m(\u001b[0m\u001b[0mtest_df\u001b[0m\u001b[0;34m,\u001b[0m \u001b[0;36m13\u001b[0m\u001b[0;34m)\u001b[0m\u001b[0;34m\u001b[0m\u001b[0m\n\u001b[0m",
        "\u001b[0;32m<ipython-input-314-24d608a84527>\u001b[0m in \u001b[0;36mcode_lookup\u001b[0;34m(df, num)\u001b[0m\n\u001b[1;32m      1\u001b[0m \u001b[0;32mdef\u001b[0m \u001b[0mcode_lookup\u001b[0m\u001b[0;34m(\u001b[0m\u001b[0mdf\u001b[0m\u001b[0;34m,\u001b[0m \u001b[0mnum\u001b[0m\u001b[0;34m)\u001b[0m\u001b[0;34m:\u001b[0m\u001b[0;34m\u001b[0m\u001b[0m\n\u001b[0;32m----> 2\u001b[0;31m     \u001b[0mcodeblob\u001b[0m \u001b[0;34m=\u001b[0m \u001b[0mTextBlob\u001b[0m\u001b[0;34m(\u001b[0m\u001b[0mdf\u001b[0m\u001b[0;34m.\u001b[0m\u001b[0miloc\u001b[0m\u001b[0;34m[\u001b[0m\u001b[0mnum\u001b[0m\u001b[0;34m-\u001b[0m\u001b[0;36m1\u001b[0m\u001b[0;34m]\u001b[0m\u001b[0;34m[\u001b[0m\u001b[0;34m'Code'\u001b[0m\u001b[0;34m]\u001b[0m\u001b[0;34m)\u001b[0m\u001b[0;34m\u001b[0m\u001b[0m\n\u001b[0m\u001b[1;32m      3\u001b[0m     \u001b[0mprint\u001b[0m\u001b[0;34m(\u001b[0m\u001b[0mdf\u001b[0m\u001b[0;34m.\u001b[0m\u001b[0miloc\u001b[0m\u001b[0;34m[\u001b[0m\u001b[0mnum\u001b[0m\u001b[0;34m-\u001b[0m\u001b[0;36m1\u001b[0m\u001b[0;34m]\u001b[0m\u001b[0;34m[\u001b[0m\u001b[0;34m'Language'\u001b[0m\u001b[0;34m]\u001b[0m\u001b[0;34m)\u001b[0m\u001b[0;34m\u001b[0m\u001b[0m\n\u001b[1;32m      4\u001b[0m     \u001b[0mprint\u001b[0m\u001b[0;34m(\u001b[0m\u001b[0;34m\"\"\u001b[0m\u001b[0;34m)\u001b[0m\u001b[0;34m\u001b[0m\u001b[0m\n\u001b[1;32m      5\u001b[0m     \u001b[0mprint\u001b[0m\u001b[0;34m(\u001b[0m\u001b[0mcodeblob\u001b[0m\u001b[0;34m)\u001b[0m\u001b[0;34m\u001b[0m\u001b[0m\n",
        "\u001b[0;32m/Users/bretrunestad/.pyenv/versions/charting/lib/python3.4/site-packages/pandas/core/series.py\u001b[0m in \u001b[0;36m__getitem__\u001b[0;34m(self, key)\u001b[0m\n\u001b[1;32m    507\u001b[0m     \u001b[0;32mdef\u001b[0m \u001b[0m__getitem__\u001b[0m\u001b[0;34m(\u001b[0m\u001b[0mself\u001b[0m\u001b[0;34m,\u001b[0m \u001b[0mkey\u001b[0m\u001b[0;34m)\u001b[0m\u001b[0;34m:\u001b[0m\u001b[0;34m\u001b[0m\u001b[0m\n\u001b[1;32m    508\u001b[0m         \u001b[0;32mtry\u001b[0m\u001b[0;34m:\u001b[0m\u001b[0;34m\u001b[0m\u001b[0m\n\u001b[0;32m--> 509\u001b[0;31m             \u001b[0mresult\u001b[0m \u001b[0;34m=\u001b[0m \u001b[0mself\u001b[0m\u001b[0;34m.\u001b[0m\u001b[0mindex\u001b[0m\u001b[0;34m.\u001b[0m\u001b[0mget_value\u001b[0m\u001b[0;34m(\u001b[0m\u001b[0mself\u001b[0m\u001b[0;34m,\u001b[0m \u001b[0mkey\u001b[0m\u001b[0;34m)\u001b[0m\u001b[0;34m\u001b[0m\u001b[0m\n\u001b[0m\u001b[1;32m    510\u001b[0m \u001b[0;34m\u001b[0m\u001b[0m\n\u001b[1;32m    511\u001b[0m             \u001b[0;32mif\u001b[0m \u001b[0;32mnot\u001b[0m \u001b[0mnp\u001b[0m\u001b[0;34m.\u001b[0m\u001b[0misscalar\u001b[0m\u001b[0;34m(\u001b[0m\u001b[0mresult\u001b[0m\u001b[0;34m)\u001b[0m\u001b[0;34m:\u001b[0m\u001b[0;34m\u001b[0m\u001b[0m\n",
        "\u001b[0;32m/Users/bretrunestad/.pyenv/versions/charting/lib/python3.4/site-packages/pandas/core/index.py\u001b[0m in \u001b[0;36mget_value\u001b[0;34m(self, series, key)\u001b[0m\n\u001b[1;32m   1429\u001b[0m                     \u001b[0;32mraise\u001b[0m \u001b[0mInvalidIndexError\u001b[0m\u001b[0;34m(\u001b[0m\u001b[0mkey\u001b[0m\u001b[0;34m)\u001b[0m\u001b[0;34m\u001b[0m\u001b[0m\n\u001b[1;32m   1430\u001b[0m                 \u001b[0;32melse\u001b[0m\u001b[0;34m:\u001b[0m\u001b[0;34m\u001b[0m\u001b[0m\n\u001b[0;32m-> 1431\u001b[0;31m                     \u001b[0;32mraise\u001b[0m \u001b[0me1\u001b[0m\u001b[0;34m\u001b[0m\u001b[0m\n\u001b[0m\u001b[1;32m   1432\u001b[0m             \u001b[0;32mexcept\u001b[0m \u001b[0mException\u001b[0m\u001b[0;34m:\u001b[0m  \u001b[0;31m# pragma: no cover\u001b[0m\u001b[0;34m\u001b[0m\u001b[0m\n\u001b[1;32m   1433\u001b[0m                 \u001b[0;32mraise\u001b[0m \u001b[0me1\u001b[0m\u001b[0;34m\u001b[0m\u001b[0m\n",
        "\u001b[0;32m/Users/bretrunestad/.pyenv/versions/charting/lib/python3.4/site-packages/pandas/core/index.py\u001b[0m in \u001b[0;36mget_value\u001b[0;34m(self, series, key)\u001b[0m\n\u001b[1;32m   1415\u001b[0m \u001b[0;34m\u001b[0m\u001b[0m\n\u001b[1;32m   1416\u001b[0m         \u001b[0;32mtry\u001b[0m\u001b[0;34m:\u001b[0m\u001b[0;34m\u001b[0m\u001b[0m\n\u001b[0;32m-> 1417\u001b[0;31m             \u001b[0;32mreturn\u001b[0m \u001b[0mself\u001b[0m\u001b[0;34m.\u001b[0m\u001b[0m_engine\u001b[0m\u001b[0;34m.\u001b[0m\u001b[0mget_value\u001b[0m\u001b[0;34m(\u001b[0m\u001b[0ms\u001b[0m\u001b[0;34m,\u001b[0m \u001b[0mk\u001b[0m\u001b[0;34m)\u001b[0m\u001b[0;34m\u001b[0m\u001b[0m\n\u001b[0m\u001b[1;32m   1418\u001b[0m         \u001b[0;32mexcept\u001b[0m \u001b[0mKeyError\u001b[0m \u001b[0;32mas\u001b[0m \u001b[0me1\u001b[0m\u001b[0;34m:\u001b[0m\u001b[0;34m\u001b[0m\u001b[0m\n\u001b[1;32m   1419\u001b[0m             \u001b[0;32mif\u001b[0m \u001b[0mlen\u001b[0m\u001b[0;34m(\u001b[0m\u001b[0mself\u001b[0m\u001b[0;34m)\u001b[0m \u001b[0;34m>\u001b[0m \u001b[0;36m0\u001b[0m \u001b[0;32mand\u001b[0m \u001b[0mself\u001b[0m\u001b[0;34m.\u001b[0m\u001b[0minferred_type\u001b[0m \u001b[0;32min\u001b[0m \u001b[0;34m[\u001b[0m\u001b[0;34m'integer'\u001b[0m\u001b[0;34m,\u001b[0m\u001b[0;34m'boolean'\u001b[0m\u001b[0;34m]\u001b[0m\u001b[0;34m:\u001b[0m\u001b[0;34m\u001b[0m\u001b[0m\n",
        "\u001b[0;32m/Users/bretrunestad/.pyenv/versions/charting/lib/python3.4/site-packages/pandas/index.so\u001b[0m in \u001b[0;36mpandas.index.IndexEngine.get_value (pandas/index.c:3096)\u001b[0;34m()\u001b[0m\n",
        "\u001b[0;32m/Users/bretrunestad/.pyenv/versions/charting/lib/python3.4/site-packages/pandas/index.so\u001b[0m in \u001b[0;36mpandas.index.IndexEngine.get_value (pandas/index.c:2827)\u001b[0;34m()\u001b[0m\n",
        "\u001b[0;32m/Users/bretrunestad/.pyenv/versions/charting/lib/python3.4/site-packages/pandas/index.so\u001b[0m in \u001b[0;36mpandas.index.IndexEngine.get_loc (pandas/index.c:3687)\u001b[0;34m()\u001b[0m\n",
        "\u001b[0;32m/Users/bretrunestad/.pyenv/versions/charting/lib/python3.4/site-packages/pandas/hashtable.so\u001b[0m in \u001b[0;36mpandas.hashtable.PyObjectHashTable.get_item (pandas/hashtable.c:12310)\u001b[0;34m()\u001b[0m\n",
        "\u001b[0;32m/Users/bretrunestad/.pyenv/versions/charting/lib/python3.4/site-packages/pandas/hashtable.so\u001b[0m in \u001b[0;36mpandas.hashtable.PyObjectHashTable.get_item (pandas/hashtable.c:12261)\u001b[0;34m()\u001b[0m\n",
        "\u001b[0;31mKeyError\u001b[0m: 'Code'"
       ]
      }
     ],
     "prompt_number": 315
    },
    {
     "cell_type": "code",
     "collapsed": false,
     "input": [
      "def tcode_sucker():\n",
      "    codelist = []\n",
      "    for subdir, dirs, files in os.walk(\"test/\"):\n",
      "        for fname in files:\n",
      "            with open(os.path.join(subdir, fname)) as current_file:\n",
      "                codelist.append(current_file.read()) \n",
      "    return codelist"
     ],
     "language": "python",
     "metadata": {},
     "outputs": []
    },
    {
     "cell_type": "code",
     "collapsed": false,
     "input": [
      "def tdata_frame_generator():\n",
      "    test_codelist = tcode_sucker()\n",
      "    df = pd.read_csv(\"test.csv\")\n",
      "    df[\"Code\"] = test_codelist\n",
      "    for string in word_list:\n",
      "        def sub_function(code):\n",
      "            x = string_ratio(string, code)\n",
      "            return x\n",
      "        df[string] = df.Code.apply(sub_function)\n",
      "    return df"
     ],
     "language": "python",
     "metadata": {},
     "outputs": []
    },
    {
     "cell_type": "code",
     "collapsed": false,
     "input": [
      "test_df = tdata_frame_generator()"
     ],
     "language": "python",
     "metadata": {},
     "outputs": []
    },
    {
     "cell_type": "code",
     "collapsed": false,
     "input": [
      "codelist=tcode_sucker()"
     ],
     "language": "python",
     "metadata": {},
     "outputs": []
    },
    {
     "cell_type": "code",
     "collapsed": false,
     "input": [
      "codelist"
     ],
     "language": "python",
     "metadata": {},
     "outputs": []
    },
    {
     "cell_type": "code",
     "collapsed": false,
     "input": [
      "test_df"
     ],
     "language": "python",
     "metadata": {},
     "outputs": []
    },
    {
     "cell_type": "code",
     "collapsed": false,
     "input": [
      "test_codelist = tcode_sucker()"
     ],
     "language": "python",
     "metadata": {},
     "outputs": []
    },
    {
     "cell_type": "code",
     "collapsed": false,
     "input": [
      "test_df = pd.read_csv(\"test.csv\")"
     ],
     "language": "python",
     "metadata": {},
     "outputs": []
    },
    {
     "cell_type": "code",
     "collapsed": false,
     "input": [
      "test_df[\"Testcode\"] = test_codelist"
     ],
     "language": "python",
     "metadata": {},
     "outputs": []
    },
    {
     "cell_type": "code",
     "collapsed": false,
     "input": [
      "test_df['code length'] = test_df.Testcode.apply(length_getter)"
     ],
     "language": "python",
     "metadata": {},
     "outputs": []
    },
    {
     "cell_type": "code",
     "collapsed": false,
     "input": [
      "test_df['^'] = df.Code.apply(carat)\n",
      "test_df[';'] = df.Code.apply(semicolon)\n",
      "test_df[','] = df.Code.apply(comma)\n",
      "test_df['&'] = df.Code.apply(carat)\n",
      "test_df['!'] = df.Code.apply(semicolon)\n",
      "test_df['|'] = df.Code.apply(comma)"
     ],
     "language": "python",
     "metadata": {},
     "outputs": []
    },
    {
     "cell_type": "code",
     "collapsed": false,
     "input": [
      "test_df['let'] = df.Code.apply(let_ratio)\n",
      "test_df['end'] = df.Code.apply(end_ratio)\n",
      "test_df['fun'] = df.Code.apply(fun_ratio)\n",
      "test_df['defn'] = df.Code.apply(defn_ratio)\n",
      "test_df['def'] = df.Code.apply(def_ratio)\n",
      "test_df['function'] = df.Code.apply(function_ratio)\n",
      "test_df['slice'] = df.Code.apply(slice_ratio)\n",
      "test_df['return'] = df.Code.apply(return_ratio)\n",
      "test_df['define'] = df.Code.apply(define_ratio)\n",
      "test_df['doublecolon'] = df.Code.apply(doublecolon_ratio)\n",
      "test_df['check'] = df.Code.apply(check_ratio)\n",
      "test_df['make'] = df.Code.apply(make_ratio)\n",
      "test_df['.format'] = df.Code.apply(format_ratio)\n",
      "test_df['->'] = df.Code.apply(arrow_ratio)\n",
      "test_df['$'] = df.Code.apply(dollar_ratio)\n",
      "test_df['printf'] = df.Code.apply(printf_ratio)"
     ],
     "language": "python",
     "metadata": {},
     "outputs": []
    },
    {
     "cell_type": "code",
     "collapsed": false,
     "input": [
      "test_df"
     ],
     "language": "python",
     "metadata": {},
     "outputs": []
    },
    {
     "cell_type": "code",
     "collapsed": false,
     "input": [
      "from sklearn import metrics"
     ],
     "language": "python",
     "metadata": {},
     "outputs": []
    },
    {
     "cell_type": "code",
     "collapsed": false,
     "input": [
      "def create_xy(df, test_df startx, columny):\n",
      "    x_train = df.loc[:, startx:]\n",
      "    x_test = test_df.loc[:, startx:]\n",
      "    y_train = df[columny]\n",
      "    y_test = test_df[columny]\n",
      "    return x_train, x_test, y_train, y_test"
     ],
     "language": "python",
     "metadata": {},
     "outputs": []
    },
    {
     "cell_type": "code",
     "collapsed": false,
     "input": [
      "x_train = df.loc[:,\"^\":]\n",
      "x_test = test_df.loc[:, \"^\":]\n",
      "y_train = df.Language\n",
      "y_test = test_df.Language"
     ],
     "language": "python",
     "metadata": {},
     "outputs": []
    },
    {
     "cell_type": "code",
     "collapsed": false,
     "input": [
      "x_train, x_test, y_train, y_test = create_xy('let', 'Language')"
     ],
     "language": "python",
     "metadata": {},
     "outputs": []
    },
    {
     "cell_type": "code",
     "collapsed": false,
     "input": [
      "x_train"
     ],
     "language": "python",
     "metadata": {},
     "outputs": []
    },
    {
     "cell_type": "code",
     "collapsed": false,
     "input": [
      "def run_classifier(clf, x_train, x_test, y_train, y_test):\n",
      "    clf.fit(x_train, y_train)\n",
      "    predicted = clf.predict(x_test)\n",
      "    print(metrics.classification_report(y_test, predicted))\n",
      "    print(metrics.confusion_matrix(y_test, predicted))\n",
      "    print(metrics.f1_score(y_test, predicted))"
     ],
     "language": "python",
     "metadata": {},
     "outputs": []
    },
    {
     "cell_type": "code",
     "collapsed": false,
     "input": [
      "from sklearn.cross_validation import cross_val_score\n",
      "from sklearn.naive_bayes import GaussianNB\n",
      "from sklearn.tree import DecisionTreeClassifier\n",
      "from sklearn.ensemble import RandomForestClassifier"
     ],
     "language": "python",
     "metadata": {},
     "outputs": []
    },
    {
     "cell_type": "code",
     "collapsed": false,
     "input": [
      "tree = DecisionTreeClassifier()\n",
      "run_classifier(tree, x_train, x_test, y_train, y_test)"
     ],
     "language": "python",
     "metadata": {},
     "outputs": []
    },
    {
     "cell_type": "code",
     "collapsed": false,
     "input": [
      "gauss = GaussianNB()\n",
      "run_classifier(gauss, x_train, x_test, y_train, y_test)"
     ],
     "language": "python",
     "metadata": {},
     "outputs": []
    }
   ],
   "metadata": {}
  }
 ]
}