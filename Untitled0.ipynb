{
 "metadata": {
  "name": "",
  "signature": "sha256:eaed2b782c2a0e9c628dc2284a212eab46217bad4829a649725526f4c0742a96"
 },
 "nbformat": 3,
 "nbformat_minor": 0,
 "worksheets": [
  {
   "cells": [
    {
     "cell_type": "code",
     "collapsed": false,
     "input": [
      "from open_parse import *\n",
      "import classifier_train\n",
      "import pickle\n",
      "import re"
     ],
     "language": "python",
     "metadata": {},
     "outputs": [],
     "prompt_number": 1
    },
    {
     "cell_type": "code",
     "collapsed": false,
     "input": [
      "path = (\"/Users/chameleonsrock/ironyard/sandbox\"\n",
      "        \"/programming-language-classifier/bench\")"
     ],
     "language": "python",
     "metadata": {},
     "outputs": [],
     "prompt_number": 2
    },
    {
     "cell_type": "code",
     "collapsed": false,
     "input": [
      "train = open_and_parse(path)"
     ],
     "language": "python",
     "metadata": {},
     "outputs": [],
     "prompt_number": 3
    },
    {
     "cell_type": "code",
     "collapsed": false,
     "input": [
      "with open(\"/Users/chameleonsrock/ironyard/sandbox/programming-language-classifier/rf_programming.dat\", \"rb\") as file:\n",
      "    classifier = pickle.load(file)"
     ],
     "language": "python",
     "metadata": {},
     "outputs": [],
     "prompt_number": 4
    },
    {
     "cell_type": "code",
     "collapsed": false,
     "input": [
      "def id_code(snippet_path):\n",
      "    \"\"\"Opens a file, parses it, then applies a trained classifier to return\n",
      "       the predicted language.\"\"\"\n",
      "    snippet = open_and_parse_single(snippet_path)\n",
      "    snippet = snippet.drop(['Snippet'], axis=1)\n",
      "    return snippet"
     ],
     "language": "python",
     "metadata": {},
     "outputs": [],
     "prompt_number": 5
    },
    {
     "cell_type": "code",
     "collapsed": false,
     "input": [
      "snippet = id_code('/Users/chameleonsrock/ironyard/sandbox/programming-language-classifier/test/13')"
     ],
     "language": "python",
     "metadata": {},
     "outputs": [],
     "prompt_number": 28
    },
    {
     "cell_type": "code",
     "collapsed": false,
     "input": [
      "classifier.predict(snippet)"
     ],
     "language": "python",
     "metadata": {},
     "outputs": [
      {
       "metadata": {},
       "output_type": "pyout",
       "prompt_number": 29,
       "text": [
        "array(['Perl'], dtype=object)"
       ]
      }
     ],
     "prompt_number": 29
    }
   ],
   "metadata": {}
  }
 ]
}