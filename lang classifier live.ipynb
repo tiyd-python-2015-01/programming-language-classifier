{
 "metadata": {
  "name": "",
  "signature": "sha256:517c0af79cf5d3b4fc45e900b47c2c280b55540e2ca9ee92e073faaa3e7a2a55"
 },
 "nbformat": 3,
 "nbformat_minor": 0,
 "worksheets": [
  {
   "cells": [
    {
     "cell_type": "code",
     "collapsed": false,
     "input": [
      "from corpus_build import Corpus, hit_num\n",
      "corpus = Corpus()\n",
      "corpus_df = corpus.compl_df_build()\n",
      "corpus_df.head()"
     ],
     "language": "python",
     "metadata": {},
     "outputs": [
      {
       "html": [
        "<div style=\"max-height:1000px;max-width:1500px;overflow:auto;\">\n",
        "<table border=\"1\" class=\"dataframe\">\n",
        "  <thead>\n",
        "    <tr style=\"text-align: right;\">\n",
        "      <th></th>\n",
        "      <th>file_type</th>\n",
        "      <th>hit_num</th>\n",
        "      <th>raw_text</th>\n",
        "      <th>paren_count</th>\n",
        "    </tr>\n",
        "  </thead>\n",
        "  <tbody>\n",
        "    <tr>\n",
        "      <th>0</th>\n",
        "      <td> clojure</td>\n",
        "      <td> 1</td>\n",
        "      <td> ;; The Computer Language Benchmarks Game\\n;; h...</td>\n",
        "      <td> 0.071901</td>\n",
        "    </tr>\n",
        "    <tr>\n",
        "      <th>1</th>\n",
        "      <td> clojure</td>\n",
        "      <td> 1</td>\n",
        "      <td> ;; The Computer Language Benchmarks Game\\n;; h...</td>\n",
        "      <td> 0.071704</td>\n",
        "    </tr>\n",
        "    <tr>\n",
        "      <th>2</th>\n",
        "      <td> clojure</td>\n",
        "      <td> 1</td>\n",
        "      <td> ;; The Computer Language Benchmarks Game\\n;; h...</td>\n",
        "      <td> 0.063995</td>\n",
        "    </tr>\n",
        "    <tr>\n",
        "      <th>3</th>\n",
        "      <td> haskell</td>\n",
        "      <td> 2</td>\n",
        "      <td> --\\n-- The Computer Language Benchmarks Game\\n...</td>\n",
        "      <td> 0.024707</td>\n",
        "    </tr>\n",
        "    <tr>\n",
        "      <th>4</th>\n",
        "      <td> haskell</td>\n",
        "      <td> 2</td>\n",
        "      <td> --\\n-- The Computer Language Benchmarks Game\\n...</td>\n",
        "      <td> 0.024352</td>\n",
        "    </tr>\n",
        "  </tbody>\n",
        "</table>\n",
        "</div>"
       ],
       "metadata": {},
       "output_type": "pyout",
       "prompt_number": 2,
       "text": [
        "  file_type hit_num                                           raw_text  \\\n",
        "0   clojure       1  ;; The Computer Language Benchmarks Game\\n;; h...   \n",
        "1   clojure       1  ;; The Computer Language Benchmarks Game\\n;; h...   \n",
        "2   clojure       1  ;; The Computer Language Benchmarks Game\\n;; h...   \n",
        "3   haskell       2  --\\n-- The Computer Language Benchmarks Game\\n...   \n",
        "4   haskell       2  --\\n-- The Computer Language Benchmarks Game\\n...   \n",
        "\n",
        "   paren_count  \n",
        "0     0.071901  \n",
        "1     0.071704  \n",
        "2     0.063995  \n",
        "3     0.024707  \n",
        "4     0.024352  "
       ]
      }
     ],
     "prompt_number": 2
    },
    {
     "cell_type": "code",
     "collapsed": false,
     "input": [
      "corpus[''] = []\n",
      "corpus.head()"
     ],
     "language": "python",
     "metadata": {},
     "outputs": [],
     "prompt_number": 5
    },
    {
     "cell_type": "code",
     "collapsed": false,
     "input": [],
     "language": "python",
     "metadata": {},
     "outputs": [],
     "prompt_number": 67
    },
    {
     "cell_type": "code",
     "collapsed": false,
     "input": [],
     "language": "python",
     "metadata": {},
     "outputs": [],
     "prompt_number": 67
    },
    {
     "cell_type": "code",
     "collapsed": false,
     "input": [],
     "language": "python",
     "metadata": {},
     "outputs": [],
     "prompt_number": 67
    },
    {
     "cell_type": "heading",
     "level": 1,
     "metadata": {},
     "source": [
      "Choosing the Best Model"
     ]
    },
    {
     "cell_type": "code",
     "collapsed": false,
     "input": [
      "from sklearn.naive_bayes import GaussianNB, MultinomialNB, BernoulliNB\n",
      "from sklearn.neighbors import KNeighborsClassifier\n",
      "from sklearn.tree import DecisionTreeClassifier\n",
      "from sklearn.ensemble import RandomForestClassifier, AdaBoostClassifier\n",
      "from sklearn.cross_validation import train_test_split\n",
      "from sklearn.cluster import KMeans\n",
      "from sklearn import metrics\n",
      "from sklearn.cross_validation import cross_val_score\n",
      "import numpy as np\n",
      "import seaborn as sbn\n",
      "import matplotlib.pyplot as plt\n",
      "%matplotlib inline\n",
      "\n",
      "corpus_features = corpus.drop(['raw_text','file_type'], axis=1)\n",
      "\n",
      "corp_train = corpus_features.values[0::,1::]\n",
      "corp_answer = corpus_features.values[0::,0]\n",
      "\n",
      "x_train, x_test, y_train, y_test = train_test_split(corp_train, corp_answer, test_size=.4, random_state=0)\n",
      "\n",
      "model_list = [KNeighborsClassifier(), RandomForestClassifier(), DecisionTreeClassifier()]\n",
      "# BernoulliNB(), MultinomialNB(), AdaBoostClassifier(), GaussianNB(), \n",
      "\n",
      "def run_test_model(classifier, x_train, y_train, x_test, y_test, orig_train, orig_answ):\n",
      "\n",
      "    classifier.fit(x_train, y_train)\n",
      "    predicted = classifier.predict(x_test)\n",
      "    return metrics.f1_score(y_test, predicted)\n",
      "\n",
      "def run_rank_multiple_models(list_of_models):\n",
      "    return [(model, run_test_model(model, x_train, y_train, x_test, y_test, corp_train, corp_answer)) \n",
      "            for model \n",
      "            in list_of_models]"
     ],
     "language": "python",
     "metadata": {},
     "outputs": [],
     "prompt_number": 175
    },
    {
     "cell_type": "code",
     "collapsed": false,
     "input": [
      "model_results = run_rank_multiple_models(model_list)\n",
      "model_results.sort(key=lambda x: x[1])\n",
      "x_labels = [group[0] for group in model_results]\n",
      "x_values = [group[1] for group in model_results]  \n",
      "width = .75\n",
      "height = np.arange(len(model_results))\n",
      "mean = np.array(x_values).mean()\n",
      "\n",
      "plt.yticks(height+width/2., x_labels)\n",
      "plt.barh(height, x_values, width, color = sbn.color_palette())\n",
      "plt.axvline(mean, c='r')\n",
      "plt.rc('figure', figsize=(10, 5))\n",
      "plt.show()"
     ],
     "language": "python",
     "metadata": {},
     "outputs": [
      {
       "metadata": {},
       "output_type": "display_data",
       "png": "[encoded data removed]",
       "text": [
        "<matplotlib.figure.Figure at 0x10ebb2828>"
       ]
      }
     ],
     "prompt_number": 176
    },
    {
     "cell_type": "code",
     "collapsed": false,
     "input": [
      "run_test_model(DecisionTreeClassifier(), x_train, y_train, x_test, y_test, corp_train, corp_answer)"
     ],
     "language": "python",
     "metadata": {},
     "outputs": [
      {
       "metadata": {},
       "output_type": "pyout",
       "prompt_number": 177,
       "text": [
        "0.18077668222273341"
       ]
      }
     ],
     "prompt_number": 177
    },
    {
     "cell_type": "heading",
     "level": 1,
     "metadata": {},
     "source": [
      "Pass in live code file for response"
     ]
    },
    {
     "cell_type": "code",
     "collapsed": false,
     "input": [
      "def reverse_dict_match(a_dictionary, a_list):\n",
      "    \"\"\"Pass this function a dictionary and a list. it will reverse the order of the dict\n",
      "    and match the first values of the list with the dict.\"\"\"\n",
      "    reversed_dict = dict((v,k) for k,v in a_dictionary.items())\n",
      "    return [(reversed_dict.get(x),y) for x,y in a_list]\n",
      "\n",
      "def check_code_snippet(a_file, corp_train, corp_answer):\n",
      "    \n",
      "    # Ingest file\n",
      "    a_file_df = pd.DataFrame([read_process_file(a_file)], columns=['raw_text'])\n",
      " \n",
      "    # Turn file into features\n",
      "    a_file_df['paren_count'] = parenthesis_count(a_file_df['raw_text'][0])\n",
      "    a_cleaned_df = a_file_df.drop(['raw_text'], axis=1)\n",
      "\n",
      "    # Run model\n",
      "    model_created = GaussianNB()\n",
      "    model_created.fit(corp_train, corp_answer)\n",
      "    predicted = model_created.predict(a_cleaned_df.values)\n",
      "    predict_prob = model_created.predict_proba(a_cleaned_df.values)\n",
      "    \n",
      "    #Pretty response\n",
      "    answer_list = list(zip(model_created.classes_, predict_prob[0]))\n",
      "    answer_list.sort(key=lambda x: x[1], reverse=True)\n",
      "    return reverse_dict_match(hit_num, answer_list)"
     ],
     "language": "python",
     "metadata": {},
     "outputs": [],
     "prompt_number": 348
    },
    {
     "cell_type": "code",
     "collapsed": false,
     "input": [
      "check_code_snippet('test/1', corp_train, corp_answer)"
     ],
     "language": "python",
     "metadata": {},
     "outputs": [
      {
       "metadata": {},
       "output_type": "pyout",
       "prompt_number": 350,
       "text": [
        "[('java', 0.23709565168200461),\n",
        " ('perl', 0.15122183416794088),\n",
        " ('ruby', 0.13694881776324136),\n",
        " ('ocaml', 0.12725804928624451),\n",
        " ('python', 0.08496717978985284),\n",
        " ('haskell', 0.081919233740987057),\n",
        " ('php', 0.064364558495229707),\n",
        " ('scala', 0.063449250754175929),\n",
        " ('javascript', 0.049179273881515481),\n",
        " ('clojure', 0.0035955804751662455),\n",
        " ('scheme', 5.6996364138916492e-07)]"
       ]
      }
     ],
     "prompt_number": 350
    },
    {
     "cell_type": "code",
     "collapsed": false,
     "input": [],
     "language": "python",
     "metadata": {},
     "outputs": [],
     "prompt_number": 350
    },
    {
     "cell_type": "code",
     "collapsed": false,
     "input": [],
     "language": "python",
     "metadata": {},
     "outputs": [],
     "prompt_number": 329
    },
    {
     "cell_type": "code",
     "collapsed": false,
     "input": [],
     "language": "python",
     "metadata": {},
     "outputs": [],
     "prompt_number": 336
    },
    {
     "cell_type": "code",
     "collapsed": false,
     "input": [],
     "language": "python",
     "metadata": {},
     "outputs": [],
     "prompt_number": 327
    },
    {
     "cell_type": "code",
     "collapsed": false,
     "input": [],
     "language": "python",
     "metadata": {},
     "outputs": []
    }
   ],
   "metadata": {}
  }
 ]
}